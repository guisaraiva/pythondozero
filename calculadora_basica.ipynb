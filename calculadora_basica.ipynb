print('1 - Soma')
print('2 - Subtração')
print('3 - Multiplicação') 
print('4 - Divisão')
operacao = int(input('Selecione o número da operacao desejada:'))

num1 = int(input("Informe o primeiro número"))
num2 = int(input("Informe o segundo número"))

def soma(num1,num2):
  total = num1 + num2
  return total

def sub(num1,num2):
  total = num1 - num2
  return total

def mult(num1,num2):
  total = num1 * num2
  return total

def div(num1,num2):
  total = num1 / num2
  return total

if (operacao == 1):
  print(soma(num1,num2))
  

if (operacao == 2):
  print(sub(num1,num2))
   
if (operacao == 3):
  print(mult(num1,num2))
  
if (operacao == 4):
  print(int((div(num1,num2))))
