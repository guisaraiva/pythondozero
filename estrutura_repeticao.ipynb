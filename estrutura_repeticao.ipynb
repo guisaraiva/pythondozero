{
 "cells": [
  {
   "cell_type": "code",
   "execution_count": 2,
   "metadata": {},
   "outputs": [
    {
     "name": "stdout",
     "output_type": "stream",
     "text": [
      "2 é um número primo\n",
      "3 é um número primo\n",
      "5 é um número primo\n",
      "7 é um número primo\n",
      "11 é um número primo\n",
      "13 é um número primo\n",
      "17 é um número primo\n",
      "19 é um número primo\n",
      "23 é um número primo\n",
      "29 é um número primo\n"
     ]
    }
   ],
   "source": [
    "# As estruturas condicionais servem para implementação de tomadas de decisão em um código.\n",
    "# Podemos definir qual fluxo o sistema irá seguir utilizando as estruturas condicionais.\n",
    "# Temos as três condicionais sendo utilizada dentro de um mesmo programa.\n",
    "\n",
    "for item in range(2,30):\n",
    "    j = 2\n",
    "    count = 0\n",
    "    while j < item:\n",
    "        if item % j == 0:\n",
    "            count = 1\n",
    "            j = j + 1\n",
    "        else:\n",
    "            j = j + 1\n",
    "    \n",
    "    if count == 0:\n",
    "        print(str(item) + \" é um número primo\")\n",
    "        count = 0\n",
    "    else:\n",
    "        count = 0"
   ] 
  },
  {
   "cell_type": "code",
   "execution_count": null,
   "metadata": {},
   "outputs": [],
   "source": []
  }
 ],
 "metadata": {
  "kernelspec": {
   "display_name": "Python 3",
   "language": "python",
   "name": "python3"
  },
  "language_info": {
   "codemirror_mode": {
    "name": "ipython",
    "version": 3
   },
   "file_extension": ".py",
   "mimetype": "text/x-python",
   "name": "python",
   "nbconvert_exporter": "python",
   "pygments_lexer": "ipython3",
   "version": "3.6.8"
  }
 },
 "nbformat": 4,
 "nbformat_minor": 1
}
